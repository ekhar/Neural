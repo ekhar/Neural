{
 "cells": [
  {
   "cell_type": "code",
   "execution_count": 8,
   "id": "3501aed6",
   "metadata": {},
   "outputs": [],
   "source": [
    "import idx2numpy\n",
    "import numpy as np\n",
    "def write_training():\n",
    "    # Specify file paths\n",
    "    image_file = './mnist/train-images-idx3-ubyte'\n",
    "    label_file = './mnist/train-labels-idx1-ubyte'\n",
    "    output_file = 'train_data.txt'\n",
    "\n",
    "    # Read data\n",
    "    images = idx2numpy.convert_from_file(image_file)\n",
    "    labels = idx2numpy.convert_from_file(label_file)\n",
    "\n",
    "    # One-hot encode labels\n",
    "    labels_one_hot = np.eye(10)[labels]\n",
    "\n",
    "    # Calculate parameters\n",
    "    num_samples = labels_one_hot.shape[0]\n",
    "    label_size = labels_one_hot.shape[1]\n",
    "    data_size = images.shape[1] * images.shape[2]\n",
    "\n",
    "    # Open output file\n",
    "    with open(output_file, 'w') as f:\n",
    "        # Write header\n",
    "        f.write(str(num_samples) + '\\n')\n",
    "        f.write(str(label_size) + '\\n')\n",
    "        f.write(str(data_size) + '\\n')\n",
    "\n",
    "        # Write labels and data\n",
    "        for i in range(num_samples):\n",
    "            f.write('\\n'.join(map(str, labels_one_hot[i])) + '\\n')  # Write label\n",
    "            image = images[i].flatten()  # Flatten 28x28 image to 1D array\n",
    "            f.write('\\n'.join(map(str, image)) + '\\n')  # Write image data\n",
    "            \n",
    "    print('Data written to', output_file)\n",
    "    \n",
    "def write_testing():\n",
    "    # Specify file paths\n",
    "    image_file = './mnist/train-images-idx3-ubyte'\n",
    "    label_file = './mnist/train-labels-idx1-ubyte'\n",
    "    output_file = 'test_data.txt'\n",
    "\n",
    "    # Read data\n",
    "    images = idx2numpy.convert_from_file(image_file)\n",
    "    labels = idx2numpy.convert_from_file(label_file)\n",
    "\n",
    "    # One-hot encode labels\n",
    "    labels_one_hot = np.eye(10)[labels]\n",
    "\n",
    "    # Calculate parameters\n",
    "    num_samples = labels_one_hot.shape[0]\n",
    "    label_size = labels_one_hot.shape[1]\n",
    "    data_size = images.shape[1] * images.shape[2]\n",
    "\n",
    "    # Open output file\n",
    "    with open(output_file, 'w') as f:\n",
    "        # Write header\n",
    "        f.write(str(num_samples) + '\\n')\n",
    "        f.write(str(label_size) + '\\n')\n",
    "        f.write(str(data_size) + '\\n')\n",
    "\n",
    "        # Write labels and data\n",
    "        for i in range(num_samples):\n",
    "            f.write('\\n'.join(map(str, labels_one_hot[i])) + '\\n')  # Write label\n",
    "            image = images[i].flatten()  # Flatten 28x28 image to 1D array\n",
    "            f.write('\\n'.join(map(str, image)) + '\\n')  # Write image data\n",
    "\n",
    "\n",
    "    print('Data written to', output_file)\n"
   ]
  },
  {
   "cell_type": "code",
   "execution_count": 9,
   "id": "cd02d25c",
   "metadata": {},
   "outputs": [
    {
     "name": "stdout",
     "output_type": "stream",
     "text": [
      "Data written to train_data.txt\n"
     ]
    }
   ],
   "source": [
    "write_training()"
   ]
  },
  {
   "cell_type": "code",
   "execution_count": 10,
   "id": "652057f2",
   "metadata": {},
   "outputs": [
    {
     "name": "stdout",
     "output_type": "stream",
     "text": [
      "Data written to test_data.txt\n"
     ]
    }
   ],
   "source": [
    "write_testing()"
   ]
  },
  {
   "cell_type": "code",
   "execution_count": 3,
   "id": "6ef5d750",
   "metadata": {},
   "outputs": [
    {
     "name": "stdout",
     "output_type": "stream",
     "text": [
      "Collecting idx2numpy\n",
      "  Downloading idx2numpy-1.2.3.tar.gz (6.8 kB)\n",
      "  Preparing metadata (setup.py) ... \u001b[?25ldone\n",
      "\u001b[?25hCollecting numpy (from idx2numpy)\n",
      "  Downloading numpy-1.25.0-cp311-cp311-manylinux_2_17_x86_64.manylinux2014_x86_64.whl (17.6 MB)\n",
      "\u001b[2K     \u001b[38;2;114;156;31m━━━━━━━━━━━━━━━━━━━━━━━━━━━━━━━━━━━━━━━━\u001b[0m \u001b[32m17.6/17.6 MB\u001b[0m \u001b[31m25.0 MB/s\u001b[0m eta \u001b[36m0:00:00\u001b[0mm eta \u001b[36m0:00:01\u001b[0m[36m0:00:01\u001b[0m\n",
      "\u001b[?25hRequirement already satisfied: six in /home/ericsan/.conda/envs/general/lib/python3.11/site-packages (from idx2numpy) (1.16.0)\n",
      "Building wheels for collected packages: idx2numpy\n",
      "  Building wheel for idx2numpy (setup.py) ... \u001b[?25ldone\n",
      "\u001b[?25h  Created wheel for idx2numpy: filename=idx2numpy-1.2.3-py3-none-any.whl size=7905 sha256=1c0c93613a13ac7ff3d34f2a50be3e29f1ffab8b00a4397303062de7741025b6\n",
      "  Stored in directory: /home/ericsan/.cache/pip/wheels/87/e5/e7/70fc742b3645ddf9d392f766feccbcc95cb3a3c806f8588af0\n",
      "Successfully built idx2numpy\n",
      "Installing collected packages: numpy, idx2numpy\n",
      "Successfully installed idx2numpy-1.2.3 numpy-1.25.0\n"
     ]
    }
   ],
   "source": [
    "!pip install idx2numpy\n"
   ]
  },
  {
   "cell_type": "code",
   "execution_count": null,
   "id": "ab9aed4b",
   "metadata": {},
   "outputs": [],
   "source": []
  }
 ],
 "metadata": {
  "kernelspec": {
   "display_name": "Python 3 (ipykernel)",
   "language": "python",
   "name": "python3"
  },
  "language_info": {
   "codemirror_mode": {
    "name": "ipython",
    "version": 3
   },
   "file_extension": ".py",
   "mimetype": "text/x-python",
   "name": "python",
   "nbconvert_exporter": "python",
   "pygments_lexer": "ipython3",
   "version": "3.11.3"
  }
 },
 "nbformat": 4,
 "nbformat_minor": 5
}
