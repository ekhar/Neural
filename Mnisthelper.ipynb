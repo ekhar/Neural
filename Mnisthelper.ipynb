{
 "cells": [
  {
   "cell_type": "code",
   "execution_count": 5,
   "id": "3501aed6",
   "metadata": {},
   "outputs": [],
   "source": [
    "import idx2numpy\n",
    "import numpy as np\n",
    "def write_training():\n",
    "    # Specify file paths\n",
    "    image_file = './mnist/train-images-idx3-ubyte'\n",
    "    label_file = './mnist/train-labels-idx1-ubyte'\n",
    "    output_file = 'train_data.txt'\n",
    "\n",
    "    # Read data\n",
    "    images = idx2numpy.convert_from_file(image_file)\n",
    "    labels = idx2numpy.convert_from_file(label_file)\n",
    "\n",
    "    # One-hot encode labels\n",
    "    labels_one_hot = np.eye(10)[labels]\n",
    "\n",
    "    # Calculate parameters\n",
    "    num_samples = labels_one_hot.shape[0]\n",
    "    label_size = labels_one_hot.shape[1]\n",
    "    data_size = images.shape[1] * images.shape[2]\n",
    "\n",
    "    # Open output file\n",
    "    with open(output_file, 'w') as f:\n",
    "        # Write header\n",
    "        f.write(str(num_samples) + '\\n')\n",
    "        f.write(str(label_size) + '\\n')\n",
    "        f.write(str(data_size) + '\\n')\n",
    "\n",
    "        # Write labels and data\n",
    "        for i in range(num_samples):\n",
    "            f.write('\\n'.join(map(str, labels_one_hot[i])) + '\\n')  # Write label\n",
    "            image = images[i].flatten()  # Flatten 28x28 image to 1D array\n",
    "            f.write('\\n'.join(map(str, image)) + '\\n')  # Write image data\n",
    "            \n",
    "    print('Data written to', output_file)\n",
    "    \n",
    "def write_testing():\n",
    "    # Specify file paths\n",
    "    image_file = './mnist/train-images-idx3-ubyte'\n",
    "    label_file = './mnist/train-labels-idx1-ubyte'\n",
    "    output_file = 'test_data.txt'\n",
    "\n",
    "    # Read data\n",
    "    images = idx2numpy.convert_from_file(image_file)\n",
    "    labels = idx2numpy.convert_from_file(label_file)\n",
    "\n",
    "    # One-hot encode labels\n",
    "    labels_one_hot = np.eye(10)[labels]\n",
    "\n",
    "    # Calculate parameters\n",
    "    num_samples = labels_one_hot.shape[0]\n",
    "    label_size = labels_one_hot.shape[1]\n",
    "    data_size = images.shape[1] * images.shape[2]\n",
    "\n",
    "    # Open output file\n",
    "    with open(output_file, 'w') as f:\n",
    "        # Write header\n",
    "        f.write(str(num_samples) + '\\n')\n",
    "        f.write(str(label_size) + '\\n')\n",
    "        f.write(str(data_size) + '\\n')\n",
    "\n",
    "        # Write labels and data\n",
    "        for i in range(num_samples):\n",
    "            f.write('\\n'.join(map(str, labels_one_hot[i])) + '\\n')  # Write label\n",
    "            image = images[i].flatten()  # Flatten 28x28 image to 1D array\n",
    "            f.write('\\n'.join(map(str, image)) + '\\n')  # Write image data\n",
    "\n",
    "\n",
    "    print('Data written to', output_file)\n"
   ]
  },
  {
   "cell_type": "code",
   "execution_count": 6,
   "id": "cd02d25c",
   "metadata": {},
   "outputs": [
    {
     "name": "stdout",
     "output_type": "stream",
     "text": [
      "Data written to train_data.txt\n"
     ]
    }
   ],
   "source": [
    "write_training()"
   ]
  },
  {
   "cell_type": "code",
   "execution_count": 7,
   "id": "652057f2",
   "metadata": {},
   "outputs": [
    {
     "name": "stdout",
     "output_type": "stream",
     "text": [
      "Data written to test_data.txt\n"
     ]
    }
   ],
   "source": [
    "write_testing()"
   ]
  },
  {
   "cell_type": "code",
   "execution_count": null,
   "id": "6ef5d750",
   "metadata": {},
   "outputs": [],
   "source": []
  }
 ],
 "metadata": {
  "kernelspec": {
   "display_name": "general",
   "language": "python",
   "name": "general"
  },
  "language_info": {
   "codemirror_mode": {
    "name": "ipython",
    "version": 3
   },
   "file_extension": ".py",
   "mimetype": "text/x-python",
   "name": "python",
   "nbconvert_exporter": "python",
   "pygments_lexer": "ipython3",
   "version": "3.11.3"
  }
 },
 "nbformat": 4,
 "nbformat_minor": 5
}
